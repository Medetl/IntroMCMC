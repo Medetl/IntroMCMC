{
 "cells": [
  {
   "cell_type": "markdown",
   "metadata": {},
   "source": [
    "Ejemplo de muestreo MCMC para ajustar datos a un modelo lineal"
   ]
  },
  {
   "cell_type": "code",
   "execution_count": 1,
   "metadata": {},
   "outputs": [],
   "source": [
    "import matplotlib.pyplot as plt\n",
    "import scipy.stats as st\n",
    "import matplotlib as mpl\n",
    "import seaborn as sb\n",
    "import pandas as pd\n",
    "import numpy as np\n",
    "\n",
    "\n",
    "from matplotlib import animation, rc\n",
    "from IPython.display import HTML\n",
    "%matplotlib inline\n",
    "sb.set()"
   ]
  },
  {
   "cell_type": "code",
   "execution_count": 2,
   "metadata": {},
   "outputs": [
    {
     "data": {
      "image/png": "[encoded data removed]",
      "text/plain": [
       "<Figure size 432x288 with 1 Axes>"
      ]
     },
     "metadata": {},
     "output_type": "display_data"
    }
   ],
   "source": [
    "# Aquí se genera el conjunto de datos sinteticos, con dispersión y barras de error.\n",
    "\n",
    "r     = np.linspace(-2, 2 , 10)  \n",
    "\n",
    "m     = 2\n",
    "b     = 3\n",
    "\n",
    "np.random.seed(100)\n",
    "\n",
    "dispersion = np.random.normal(-0.0, .1,  size=len(r))\n",
    "function = m*r + b + dispersion\n",
    "error = np.random.normal(-0.0, 3,  size=len(r))\n",
    "\n",
    "sb.set_style(\"white\", {'axes.grid': True})\n",
    "plt.errorbar(r, function , error, fmt='o')\n",
    "plt.ylabel('y',fontsize=14)\n",
    "plt.xlabel('$x$',  fontsize=14)\n",
    "#plt.plot(r, theory(r, m=1.5, b=3.), 'r-')\n",
    "#plt.plot(r, theory(r, m=2.5, b=2.75), 'g--')\n",
    "#plt.plot(r, theory(r, m=2., b=3.), 'r--')\n",
    "#plt.plot(r, theory(r, m=4., b=0.), 'k--')\n",
    "plt.savefig(\"DatosSinteticos.jpg\")\n",
    "plt.show()"
   ]
  },
  {
   "cell_type": "code",
   "execution_count": 3,
   "metadata": {},
   "outputs": [
    {
     "data": {
      "text/html": [
       "<div>\n",
       "<style scoped>\n",
       "    .dataframe tbody tr th:only-of-type {\n",
       "        vertical-align: middle;\n",
       "    }\n",
       "\n",
       "    .dataframe tbody tr th {\n",
       "        vertical-align: top;\n",
       "    }\n",
       "\n",
       "    .dataframe thead th {\n",
       "        text-align: right;\n",
       "    }\n",
       "</style>\n",
       "<table border=\"1\" class=\"dataframe\">\n",
       "  <thead>\n",
       "    <tr style=\"text-align: right;\">\n",
       "      <th></th>\n",
       "      <th>error</th>\n",
       "      <th>f</th>\n",
       "      <th>x</th>\n",
       "    </tr>\n",
       "  </thead>\n",
       "  <tbody>\n",
       "    <tr>\n",
       "      <th>0</th>\n",
       "      <td>-1.374081</td>\n",
       "      <td>-1.174977</td>\n",
       "      <td>-2.000000</td>\n",
       "    </tr>\n",
       "    <tr>\n",
       "      <th>1</th>\n",
       "      <td>1.305490</td>\n",
       "      <td>-0.076843</td>\n",
       "      <td>-1.555556</td>\n",
       "    </tr>\n",
       "    <tr>\n",
       "      <th>2</th>\n",
       "      <td>-1.750785</td>\n",
       "      <td>0.893081</td>\n",
       "      <td>-1.111111</td>\n",
       "    </tr>\n",
       "    <tr>\n",
       "      <th>3</th>\n",
       "      <td>2.450541</td>\n",
       "      <td>1.641423</td>\n",
       "      <td>-0.666667</td>\n",
       "    </tr>\n",
       "    <tr>\n",
       "      <th>4</th>\n",
       "      <td>2.018162</td>\n",
       "      <td>2.653688</td>\n",
       "      <td>-0.222222</td>\n",
       "    </tr>\n",
       "  </tbody>\n",
       "</table>\n",
       "</div>"
      ],
      "text/plain": [
       "      error         f         x\n",
       "0 -1.374081 -1.174977 -2.000000\n",
       "1  1.305490 -0.076843 -1.555556\n",
       "2 -1.750785  0.893081 -1.111111\n",
       "3  2.450541  1.641423 -0.666667\n",
       "4  2.018162  2.653688 -0.222222"
      ]
     },
     "execution_count": 3,
     "metadata": {},
     "output_type": "execute_result"
    }
   ],
   "source": [
    "df = pd.DataFrame({'x':r, 'f':function, 'error':error})\n",
    "df.head()"
   ]
  },
  {
   "cell_type": "code",
   "execution_count": 4,
   "metadata": {},
   "outputs": [],
   "source": [
    "s= df['error']**2\n",
    "covariance = pd.DataFrame(np.diag(s),index=s.index,columns=s.index)"
   ]
  },
  {
   "cell_type": "code",
   "execution_count": 5,
   "metadata": {},
   "outputs": [],
   "source": [
    "# Define el modelo teórico.\n",
    "\n",
    "def theory(x, m=2, b=3): \n",
    "    return m*x + b"
   ]
  },
  {
   "cell_type": "code",
   "execution_count": 6,
   "metadata": {},
   "outputs": [],
   "source": [
    "# Se define el loglikelihood para valores particulares de lo parámetros.\n",
    "\n",
    "def loglike(m=2, b=3):\n",
    "   #m = params[0]\n",
    "    \n",
    "    delta = theory(df['x'], m, b) - df['f']\n",
    "    chisquare = np.dot(delta,np.dot(np.linalg.inv(covariance),delta))\n",
    "    \n",
    "    return -chisquare/2."
   ]
  },
  {
   "cell_type": "code",
   "execution_count": 7,
   "metadata": {},
   "outputs": [
    {
     "data": {
      "image/png": "[encoded data removed]",
      "text/plain": [
       "<Figure size 432x288 with 2 Axes>"
      ]
     },
     "metadata": {},
     "output_type": "display_data"
    }
   ],
   "source": [
    "# Se examina el modelo.\n",
    "\n",
    "from matplotlib import ticker, cm\n",
    "\n",
    "x = np.linspace(-2, 6, 30)\n",
    "y = np.linspace(-2, 6, 30)\n",
    "\n",
    "grid = [map(lambda p: loglike(p, b=i), x) for i in y]\n",
    "fig, ax = plt.subplots()\n",
    "gs = ax.contourf(x, y, grid, 10, cmap='spring')\n",
    "cbar = fig.colorbar(gs)\n",
    "\n",
    "CS = ax.contour(x, y, grid, np.arange(-3., 3, 2))\n",
    "ax.clabel(CS, inline=10, fontsize=10)\n",
    "\n",
    "plt.ylabel('$b$',fontsize=14)\n",
    "plt.xlabel('$m$',  fontsize=14)\n",
    "plt.savefig(\"GraficaContornos.jpg\")\n",
    "plt.show()"
   ]
  },
  {
   "cell_type": "code",
   "execution_count": 8,
   "metadata": {},
   "outputs": [],
   "source": [
    "def loglike(params):  \n",
    "    m    = params[0]\n",
    "    b = params[1]\n",
    "    \n",
    "    \n",
    "    delta = theory(df['x'], m=m, b=b) -  df['f']\n",
    "    chisquare = np.dot(delta,np.dot(np.linalg.inv(covariance),delta))\n",
    "    return -chisquare/2"
   ]
  },
  {
   "cell_type": "code",
   "execution_count": 9,
   "metadata": {},
   "outputs": [],
   "source": [
    "# Aquí comienza el algoritmo MCMC\n",
    "\n",
    "def target(lik, prior, theta):\n",
    "    return lik(theta)"
   ]
  },
  {
   "cell_type": "code",
   "execution_count": 10,
   "metadata": {},
   "outputs": [],
   "source": [
    "def metropolissampler(niters, lik, prior, theta,  sigma):\n",
    "    accepted = 0\n",
    "    samples  = [] \n",
    "    likeli   = []\n",
    "    \n",
    "    samples.append(theta)\n",
    "    likeli.append(target(lik, prior, theta))\n",
    "    \n",
    "    for i in range(niters):\n",
    "        theta_p = theta + sigma* np.random.normal(0.,1., len(theta)) \n",
    "        likeratio=np.exp(target(lik, prior, theta_p) - \\\n",
    "                            target(lik, prior, theta))        \n",
    "        rho = np.minimum(1, likeratio)\n",
    "        \n",
    "        \n",
    "        if rho > np.random.uniform():\n",
    "            theta = theta_p\n",
    "            accepted += 1\n",
    "            \n",
    "            \n",
    "        samples.append(theta)\n",
    "        likeli.append(target(lik, prior, theta))\n",
    "    print 'Aceptance rate', 1.0*accepted/niters\n",
    "    return samples"
   ]
  },
  {
   "cell_type": "code",
   "execution_count": null,
   "metadata": {},
   "outputs": [
    {
     "name": "stdout",
     "output_type": "stream",
     "text": [
      "Aceptance rate 0.895\n",
      "Aceptance rate 0.8505\n"
     ]
    }
   ],
   "source": [
    "# Aquí se definen los parametros asociados a las caminantes que generaran las cadenas de Markov.\n",
    "lik    = loglike\n",
    "sigma  = [[0.06, 0.06], [0.1, 0.1], [0.3, 0.3], [0.3, 0.2]]\n",
    "theta  = [[2.9, 1.], [0., 3.1], [2.1, 2.1], [2.9, 0.5]] \n",
    "niters = 2000\n",
    "prior  = st.uniform(1)\n",
    "\n",
    "nchains = 4\n",
    "cadenas = []\n",
    "\n",
    "sb.set_style(\"white\", {'axes.grid': True})\n",
    "\n",
    "for i in range(nchains):\n",
    "    cadenas.append(metropolissampler(niters, lik, prior, theta[i], sigma[i]))\n",
    "    plt.plot(zip(*cadenas[i])[0], zip(*cadenas[i])[1], label = \"Cadena \"+str(i+1))\n",
    "\n",
    "plt.ylabel('$b$',fontsize=14)\n",
    "plt.xlabel('$m$',  fontsize=14)\n",
    "plt.legend()\n",
    "plt.savefig(\"MuestreoparaMCMC.jpg\")\n",
    "plt.show()"
   ]
  },
  {
   "cell_type": "code",
   "execution_count": null,
   "metadata": {},
   "outputs": [],
   "source": [
    "# Aqui se generan las regiones de confianza.\n",
    "def confidence_ellipse(x, y, ax, n_std=3.0, facecolor='none', **kwargs):\n",
    "   \n",
    "    if x.size != y.size:\n",
    "        raise ValueError(\"x and y must be the same size\")\n",
    "\n",
    "    cov = np.cov(x, y)\n",
    "    pearson = cov[0, 1]/np.sqrt(cov[0, 0] * cov[1, 1])\n",
    "\n",
    "    ell_radius_x = np.sqrt(1 + pearson)\n",
    "    ell_radius_y = np.sqrt(1 - pearson)\n",
    "    ellipse = Ellipse((0, 0),\n",
    "        width=ell_radius_x * 2,\n",
    "        height=ell_radius_y * 2,\n",
    "        facecolor=facecolor,\n",
    "        **kwargs)\n",
    "\n",
    "    \n",
    "    scale_x = np.sqrt(cov[0, 0]) * n_std\n",
    "    mean_x = np.mean(x)\n",
    "\n",
    "    \n",
    "    scale_y = np.sqrt(cov[1, 1]) * n_std\n",
    "    mean_y = np.mean(y)\n",
    "\n",
    "    transf = transforms.Affine2D() \\\n",
    "        .rotate_deg(45) \\\n",
    "        .scale(scale_x, scale_y) \\\n",
    "        .translate(mean_x, mean_y)\n",
    "\n",
    "    ellipse.set_transform(transf + ax.transData)\n",
    "    return ax.add_patch(ellipse)"
   ]
  },
  {
   "cell_type": "code",
   "execution_count": null,
   "metadata": {},
   "outputs": [],
   "source": [
    "from matplotlib.patches import Ellipse\n",
    "import matplotlib.transforms as transforms\n",
    "\n",
    "fig, ax_nstd = plt.subplots(figsize=(6, 6))\n",
    "x = np.array(zip(*cadenas[1])[0])\n",
    "y= np.array(zip(*cadenas[1])[1])\n",
    "ax_nstd.scatter(x, y, s=0.5)\n",
    "confidence_ellipse(x, y, ax_nstd, n_std=1, label=r'$1\\sigma$', edgecolor='firebrick')\n",
    "confidence_ellipse(x, y, ax_nstd, n_std=2, label=r'$2\\sigma$', edgecolor='firebrick',linestyle='--')\n",
    "confidence_ellipse(x, y, ax_nstd, n_std=3, label=r'$3\\sigma$', edgecolor='firebrick',linestyle=':')\n",
    "ax_nstd.legend()\n",
    "\n",
    "####\n",
    "\n",
    "print(np.cov(x,y))\n",
    "dg=pd.DataFrame({'x':x,'y':y})\n",
    "print(dg.describe())\n",
    "\n",
    "####\n",
    "\n",
    "\n",
    "sb.set_style(\"white\", {'axes.grid': True})\n",
    "plt.ylabel('b',fontsize=14)\n",
    "plt.xlabel('$m$',  fontsize=14)\n",
    "plt.scatter(2.040, 3.029,s=25,color='r')\n",
    "plt.savefig(\"Elipsesdeconfianza.jpg\")"
   ]
  },
  {
   "cell_type": "code",
   "execution_count": null,
   "metadata": {},
   "outputs": [],
   "source": [
    "# Prueba Gelman-Rubin\n",
    "\n",
    "chains = np.array(cadenas)\n",
    "\n",
    "mean_chain = []\n",
    "var_chain  = []\n",
    "\n",
    "n_chains, n_steps, n_params   = np.shape(chains)\n",
    "bi = int(n_steps*0.1)\n",
    "\n",
    "for chain in chains:\n",
    "    mean_chain.append(np.mean(chain[bi:], axis=0))\n",
    "    var_chain.append( np.var( chain[bi:], axis=0))\n",
    "    \n",
    "M = np.mean(mean_chain, axis=0)\n",
    "W = np.mean(var_chain,  axis=0)\n",
    "\n",
    "\n",
    "\n",
    "B = 0\n",
    "for i in np.arange(n_chains):\n",
    "    B += (mean_chain[i] - M)**2\n",
    "\n",
    "B = n_steps/(n_chains - 1)*B\n",
    "R = (1- 1./n_steps)*W +  B/n_steps\n",
    "\n",
    "print ('Gelman-Rubin Diagnostic:', np.sqrt(R/W), M, W)\n",
    "\n",
    "print 'Gelman-Rubin:', 1 - np.sqrt(R/W)"
   ]
  },
  {
   "cell_type": "code",
   "execution_count": null,
   "metadata": {},
   "outputs": [],
   "source": []
  }
 ],
 "metadata": {
  "kernelspec": {
   "display_name": "Python 2",
   "language": "python",
   "name": "python2"
  },
  "language_info": {
   "codemirror_mode": {
    "name": "ipython",
    "version": 2
   },
   "file_extension": ".py",
   "mimetype": "text/x-python",
   "name": "python",
   "nbconvert_exporter": "python",
   "pygments_lexer": "ipython2",
   "version": "2.7.15+"
  }
 },
 "nbformat": 4,
 "nbformat_minor": 2
}
