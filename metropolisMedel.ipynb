{
 "cells": [
  {
   "cell_type": "code",
   "execution_count": 1,
   "metadata": {},
   "outputs": [],
   "source": [
    "import matplotlib.pyplot as plt\n",
    "import numpy as np\n",
    "import scipy.stats as st"
   ]
  },
  {
   "cell_type": "code",
   "execution_count": 92,
   "metadata": {},
   "outputs": [],
   "source": [
    "#se define funcion objetivo\n",
    "def target(lik, prior, param, theta):\n",
    "    if theta < 0 or theta >1:\n",
    "        return 0\n",
    "    else:\n",
    "        return lik(param[0], theta).pmf(param[1])*prior.pdf(theta)\n",
    "    "
   ]
  },
  {
   "cell_type": "markdown",
   "metadata": {},
   "source": [
    "La funcion target devuelve la función de probabilidad de masa (pmf) del likelihood (binomial), con param[0]=14 experimentos y param[1]=10 exitos (caras). $\\theta:= probabilidad$ "
   ]
  },
  {
   "cell_type": "code",
   "execution_count": 122,
   "metadata": {},
   "outputs": [],
   "source": [
    "def metropolissampler(niters, lik, prior, theta, param, sigma):\n",
    "    samples = np.zeros(niters+1)\n",
    "    samples[0] = theta\n",
    "\n",
    "    for i in range(niters):\n",
    "        theta_p = theta + st.norm(0, sigma).rvs()\n",
    "        rho = min(1, target(lik, prior, param, theta_p)/target(lik, prior, param, theta))\n",
    "        u = np.random.uniform()\n",
    "        if u < rho:\n",
    "            theta = theta_p\n",
    "        samples[i+1] = theta\n",
    "    return samples\n",
    "\n",
    "    #nmcmc = len(samples)//2\n"
   ]
  },
  {
   "cell_type": "code",
   "execution_count": 172,
   "metadata": {},
   "outputs": [
    {
     "ename": "SyntaxError",
     "evalue": "invalid syntax (<ipython-input-172-a086262ca571>, line 19)",
     "output_type": "error",
     "traceback": [
      "\u001b[0;36m  File \u001b[0;32m\"<ipython-input-172-a086262ca571>\"\u001b[0;36m, line \u001b[0;32m19\u001b[0m\n\u001b[0;31m    https://www.programiz.com/python-programming/methods/list/append\u001b[0m\n\u001b[0m           ^\u001b[0m\n\u001b[0;31mSyntaxError\u001b[0m\u001b[0;31m:\u001b[0m invalid syntax\n"
     ]
    }
   ],
   "source": [
    "param = [14,10] #14 trials and 10 heads\n",
    "\n",
    "#params beta function\n",
    "\n",
    "prior = st.beta(1,1)\n",
    "#se define el likelihood como una dist binomial\n",
    "#por tratarse del volado\n",
    "\n",
    "lik = st.binom\n",
    "#prior = st.beta(a,b) #prior que obedece dist beta a=1, b=1.\n",
    "sigma = 0.01 #std dev\n",
    "\n",
    "theta = [0.01,0.3,0.5] # guess for p\n",
    "\n",
    "niters = 5000\n",
    "\n",
    "cadenas=[]\n",
    "nchains = 3\n",
    "https://www.programiz.com/python-programming/methods/list/append\n",
    "for i in range(nchains):\n",
    "    cadenas.append(metropolissampler(niters, lik, prior, theta[i], param, sigma))\n",
    "    plt.plot(cadenas[i], '-', label = \"Cadena \"+str(i+1))\n",
    "\n",
    "plt.xlabel(\"# de iteraciones\")\n",
    "plt.ylabel(\"Valor de la función\")\n",
    "plt.legend()\n",
    "\n",
    "plt.savefig('incongruenciamedel.png')\n",
    "    \n",
    "plt.show()\n",
    "    "
   ]
  },
  {
   "cell_type": "code",
   "execution_count": null,
   "metadata": {},
   "outputs": [],
   "source": []
  }
 ],
 "metadata": {
  "kernelspec": {
   "display_name": "Python 2",
   "language": "python",
   "name": "python2"
  },
  "language_info": {
   "codemirror_mode": {
    "name": "ipython",
    "version": 3
   },
   "file_extension": ".py",
   "mimetype": "text/x-python",
   "name": "python",
   "nbconvert_exporter": "python",
   "pygments_lexer": "ipython3",
   "version": "3.6.7"
  }
 },
 "nbformat": 4,
 "nbformat_minor": 2
}
